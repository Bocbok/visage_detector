{
 "cells": [
  {
   "cell_type": "markdown",
   "metadata": {},
   "source": [
    "# Imports"
   ]
  },
  {
   "cell_type": "code",
   "execution_count": 1,
   "metadata": {},
   "outputs": [
    {
     "name": "stderr",
     "output_type": "stream",
     "text": [
      "WARNING:root:Limited tf.compat.v2.summary API due to missing TensorBoard installation.\n",
      "WARNING:root:Limited tf.compat.v2.summary API due to missing TensorBoard installation.\n",
      "WARNING:root:Limited tf.summary API due to missing TensorBoard installation.\n"
     ]
    }
   ],
   "source": [
    "from tensorflow.keras.preprocessing.image import ImageDataGenerator, array_to_img, img_to_array, load_img\n",
    "from tensorflow.keras.optimizers import Adadelta, Adam, SGD, RMSprop\n",
    "from tensorflow.keras.models import Sequential\n",
    "from tensorflow.keras.layers import Conv2D, MaxPooling2D, PReLU, BatchNormalization\n",
    "from tensorflow.keras.layers import Activation, Dropout, Flatten, Dense\n",
    "from tensorflow.keras.losses import binary_crossentropy\n",
    "from tensorflow.keras.metrics import Precision, Recall\n",
    "from tensorflow.keras.callbacks import Callback, LearningRateScheduler, EarlyStopping, ReduceLROnPlateau, ModelCheckpoint\n",
    "from tensorflow.keras import regularizers\n",
    "from util import *\n",
    "from functools import partial\n",
    "from itertools import combinations\n",
    "from tqdm import tqdm\n",
    "import glob\n",
    "import tensorflow.keras.backend as K\n",
    "import tensorflow as tf"
   ]
  },
  {
   "cell_type": "markdown",
   "metadata": {},
   "source": [
    "# Datasets"
   ]
  },
  {
   "cell_type": "code",
   "execution_count": 2,
   "metadata": {},
   "outputs": [
    {
     "data": {
      "text/html": [
       "<div>\n",
       "<style scoped>\n",
       "    .dataframe tbody tr th:only-of-type {\n",
       "        vertical-align: middle;\n",
       "    }\n",
       "\n",
       "    .dataframe tbody tr th {\n",
       "        vertical-align: top;\n",
       "    }\n",
       "\n",
       "    .dataframe thead th {\n",
       "        text-align: right;\n",
       "    }\n",
       "</style>\n",
       "<table border=\"1\" class=\"dataframe\">\n",
       "  <thead>\n",
       "    <tr style=\"text-align: right;\">\n",
       "      <th></th>\n",
       "      <th>path</th>\n",
       "      <th>w</th>\n",
       "      <th>h</th>\n",
       "      <th>k</th>\n",
       "    </tr>\n",
       "  </thead>\n",
       "  <tbody>\n",
       "    <tr>\n",
       "      <th>0</th>\n",
       "      <td>train\\0001.jpg</td>\n",
       "      <td>450</td>\n",
       "      <td>431</td>\n",
       "      <td>1</td>\n",
       "    </tr>\n",
       "    <tr>\n",
       "      <th>1</th>\n",
       "      <td>train\\0002.jpg</td>\n",
       "      <td>449</td>\n",
       "      <td>305</td>\n",
       "      <td>2</td>\n",
       "    </tr>\n",
       "    <tr>\n",
       "      <th>2</th>\n",
       "      <td>train\\0003.jpg</td>\n",
       "      <td>370</td>\n",
       "      <td>450</td>\n",
       "      <td>3</td>\n",
       "    </tr>\n",
       "    <tr>\n",
       "      <th>3</th>\n",
       "      <td>train\\0004.jpg</td>\n",
       "      <td>409</td>\n",
       "      <td>450</td>\n",
       "      <td>4</td>\n",
       "    </tr>\n",
       "    <tr>\n",
       "      <th>4</th>\n",
       "      <td>train\\0005.jpg</td>\n",
       "      <td>450</td>\n",
       "      <td>311</td>\n",
       "      <td>5</td>\n",
       "    </tr>\n",
       "    <tr>\n",
       "      <th>...</th>\n",
       "      <td>...</td>\n",
       "      <td>...</td>\n",
       "      <td>...</td>\n",
       "      <td>...</td>\n",
       "    </tr>\n",
       "    <tr>\n",
       "      <th>995</th>\n",
       "      <td>train\\0996.jpg</td>\n",
       "      <td>326</td>\n",
       "      <td>450</td>\n",
       "      <td>996</td>\n",
       "    </tr>\n",
       "    <tr>\n",
       "      <th>996</th>\n",
       "      <td>train\\0997.jpg</td>\n",
       "      <td>363</td>\n",
       "      <td>449</td>\n",
       "      <td>997</td>\n",
       "    </tr>\n",
       "    <tr>\n",
       "      <th>997</th>\n",
       "      <td>train\\0998.jpg</td>\n",
       "      <td>294</td>\n",
       "      <td>450</td>\n",
       "      <td>998</td>\n",
       "    </tr>\n",
       "    <tr>\n",
       "      <th>998</th>\n",
       "      <td>train\\0999.jpg</td>\n",
       "      <td>354</td>\n",
       "      <td>410</td>\n",
       "      <td>999</td>\n",
       "    </tr>\n",
       "    <tr>\n",
       "      <th>999</th>\n",
       "      <td>train\\1000.jpg</td>\n",
       "      <td>367</td>\n",
       "      <td>450</td>\n",
       "      <td>1000</td>\n",
       "    </tr>\n",
       "  </tbody>\n",
       "</table>\n",
       "<p>1000 rows × 4 columns</p>\n",
       "</div>"
      ],
      "text/plain": [
       "               path    w    h     k\n",
       "0    train\\0001.jpg  450  431     1\n",
       "1    train\\0002.jpg  449  305     2\n",
       "2    train\\0003.jpg  370  450     3\n",
       "3    train\\0004.jpg  409  450     4\n",
       "4    train\\0005.jpg  450  311     5\n",
       "..              ...  ...  ...   ...\n",
       "995  train\\0996.jpg  326  450   996\n",
       "996  train\\0997.jpg  363  449   997\n",
       "997  train\\0998.jpg  294  450   998\n",
       "998  train\\0999.jpg  354  410   999\n",
       "999  train\\1000.jpg  367  450  1000\n",
       "\n",
       "[1000 rows x 4 columns]"
      ]
     },
     "execution_count": 2,
     "metadata": {},
     "output_type": "execute_result"
    }
   ],
   "source": [
    "box_labels = pd.read_csv('label_train.txt', header=None, delimiter=' ', \n",
    "                     names=['k', 'i', 'j', 'h', 'w'])\n",
    "\n",
    "train_images = glob.glob('train\\*')\n",
    "df_images = pd.DataFrame(train_images, columns=['path'])\n",
    "df_images['w'] = df_images.path.apply(lambda x: Image.open(x).size[0])\n",
    "df_images['h'] = df_images.path.apply(lambda x: Image.open(x).size[1])\n",
    "df_images['k'] = [x for x in range(1, 1001)]\n",
    "df_images"
   ]
  },
  {
   "cell_type": "markdown",
   "metadata": {},
   "source": [
    "# Box Size distribution"
   ]
  },
  {
   "cell_type": "code",
   "execution_count": 4,
   "metadata": {},
   "outputs": [
    {
     "data": {
      "text/plain": [
       "<matplotlib.axes._subplots.AxesSubplot at 0x14dad0b9788>"
      ]
     },
     "execution_count": 4,
     "metadata": {},
     "output_type": "execute_result"
    },
    {
     "data": {
      "image/png": "[encoded data removed]",
      "text/plain": [
       "<Figure size 432x288 with 1 Axes>"
      ]
     },
     "metadata": {
      "needs_background": "light"
     },
     "output_type": "display_data"
    }
   ],
   "source": [
    "box_labels.h.hist()"
   ]
  },
  {
   "cell_type": "code",
   "execution_count": 5,
   "metadata": {},
   "outputs": [
    {
     "data": {
      "text/plain": [
       "<matplotlib.axes._subplots.AxesSubplot at 0x14dad5beb88>"
      ]
     },
     "execution_count": 5,
     "metadata": {},
     "output_type": "execute_result"
    },
    {
     "data": {
      "image/png": "[encoded data removed]",
      "text/plain": [
       "<Figure size 432x288 with 1 Axes>"
      ]
     },
     "metadata": {
      "needs_background": "light"
     },
     "output_type": "display_data"
    }
   ],
   "source": [
    "box_labels.w.hist()"
   ]
  },
  {
   "cell_type": "code",
   "execution_count": 6,
   "metadata": {},
   "outputs": [
    {
     "data": {
      "text/plain": [
       "<matplotlib.axes._subplots.AxesSubplot at 0x14dae6eee48>"
      ]
     },
     "execution_count": 6,
     "metadata": {},
     "output_type": "execute_result"
    },
    {
     "data": {
      "image/png": "[encoded data removed]",
      "text/plain": [
       "<Figure size 432x288 with 1 Axes>"
      ]
     },
     "metadata": {
      "needs_background": "light"
     },
     "output_type": "display_data"
    }
   ],
   "source": [
    "(box_labels.w / box_labels.h).hist()"
   ]
  },
  {
   "cell_type": "markdown",
   "metadata": {},
   "source": [
    "# Find best window size and stride"
   ]
  },
  {
   "cell_type": "code",
   "execution_count": 7,
   "metadata": {},
   "outputs": [],
   "source": [
    "f_part = partial(get_params_perf, imgs=df_images, labels=box_labels)"
   ]
  },
  {
   "cell_type": "code",
   "execution_count": null,
   "metadata": {
    "scrolled": true
   },
   "outputs": [],
   "source": [
    "%%time\n",
    "if __name__ == '__main__':\n",
    "    strides = [30,35,40]\n",
    "    sizes = [[(100,85),(200,100),(250,212)]]\n",
    "\n",
    "#     for x in range(75, 400, 25):\n",
    "#         sizes.append([(x, int(x*0.50))])\n",
    "#         sizes.append([(x, int(x*0.65))])\n",
    "#         sizes.append([(x, int(x*0.85))])\n",
    "#         sizes.append([(x, x)])\n",
    "    \n",
    "    paramlist = list(itertools.product(strides, sizes))\n",
    "\n",
    "    print(paramlist, len(paramlist))\n",
    "\n",
    "    ret = []\n",
    "    \n",
    "    with Pool() as p:\n",
    "        for m in tqdm(p.imap_unordered(f_part, paramlist)):\n",
    "            ret.append(m)"
   ]
  },
  {
   "cell_type": "code",
   "execution_count": null,
   "metadata": {},
   "outputs": [],
   "source": [
    "vp, box_list, stats = zip(*ret)"
   ]
  },
  {
   "cell_type": "code",
   "execution_count": null,
   "metadata": {},
   "outputs": [],
   "source": [
    "stats = pd.DataFrame(stats)\n",
    "stats['mean/num_im'] = stats['mean']*100 / stats['num_im']\n",
    "stats.sort_values('acc', ascending=False)"
   ]
  },
  {
   "cell_type": "code",
   "execution_count": null,
   "metadata": {},
   "outputs": [],
   "source": [
    "test = vp[33] + vp[40] + vp[13]\n",
    "acc = sum(test > 0)/len(test)\n",
    "n_im = sum([stats.iloc[i].num_im for i in [33, 40, 13]])\n",
    "print(acc, n_im)"
   ]
  },
  {
   "cell_type": "code",
   "execution_count": null,
   "metadata": {},
   "outputs": [],
   "source": [
    "# Use combinations to find best window size set\n",
    "acc2 = []\n",
    "\n",
    "for v1, v2, v3 in combinations(range(0, len(vp)), r=3):\n",
    "    temp = vp[v1] + vp[v2] + vp[v3]\n",
    "    if sum(temp>0)/len(temp) > 0.70:\n",
    "        acc2.append(((v1, v2, v3), sum(temp>0)/len(temp)))\n",
    "        \n",
    "df = pd.DataFrame(acc2)\n",
    "df['n_im'] = df[0].apply(lambda x: sum([stats.iloc[x[i]].num_im for i in range(0,3)]))"
   ]
  },
  {
   "cell_type": "markdown",
   "metadata": {},
   "source": [
    "# Dataset Creation"
   ]
  },
  {
   "cell_type": "code",
   "execution_count": 8,
   "metadata": {
    "scrolled": true
   },
   "outputs": [
    {
     "name": "stderr",
     "output_type": "stream",
     "text": [
      "20it [00:04,  5.00it/s]\n"
     ]
    }
   ],
   "source": [
    "part_create_img_dataset = partial(create_img_dataset,stride=35, window_size=[(100,85),(200,100),(250,212)] , \n",
    "                                  box_labels=box_labels, folder_size=('val',32))\n",
    "\n",
    "if __name__ == '__main__':\n",
    "    \n",
    "    train_images = glob.glob('train\\*')\n",
    "    df_images = pd.DataFrame(train_images, columns=['path'])\n",
    "    df_images['w'] = df_images.path.apply(lambda x: Image.open(x).size[0])\n",
    "    df_images['h'] = df_images.path.apply(lambda x: Image.open(x).size[1])\n",
    "    df_images['k'] = [x for x in range(1, 1001)]\n",
    "    df_images = df_images\n",
    "    \n",
    "    ret = []\n",
    "    \n",
    "    with Pool() as p:\n",
    "        for m in tqdm(p.imap_unordered(part_create_img_dataset, df_images.iloc[80:100].iterrows())):\n",
    "            ret.append(m)"
   ]
  },
  {
   "cell_type": "markdown",
   "metadata": {},
   "source": [
    "# CNN"
   ]
  },
  {
   "cell_type": "markdown",
   "metadata": {},
   "source": [
    "## Global Variables"
   ]
  },
  {
   "cell_type": "code",
   "execution_count": 5,
   "metadata": {},
   "outputs": [],
   "source": [
    "batch_size = 512\n",
    "epochs = 40\n",
    "size = 32\n",
    "REPRESENTATION_OF_1_IN_LOSS = 0.5\n",
    "nb1 = len(glob.glob('train32x32/train/1/*'))\n",
    "nb0 = len(glob.glob('train32x32/train/0/*'))\n",
    "learning_rate = 0.05\n",
    "lr_decay = 1e-6\n",
    "lr_drop = 20\n",
    "input_shape = (size, size, 3)\n",
    "weight_decay = 0.0005\n",
    "\n",
    "steps_per_epochs = (len(glob.glob('train32x32/train/1/*'))+\n",
    "                    len(glob.glob('train32x32/train/0/*')))/batch_size\n",
    "\n",
    "validation_steps = (len(glob.glob('train32x32/val/1/*'))+\n",
    "                    len(glob.glob('train32x32/val/0/*')))/batch_size"
   ]
  },
  {
   "cell_type": "markdown",
   "metadata": {},
   "source": [
    "## Util functions"
   ]
  },
  {
   "cell_type": "code",
   "execution_count": 4,
   "metadata": {},
   "outputs": [],
   "source": [
    "# Determine the weight to apply to classes for imbalanced dataset\n",
    "def class_weight(nb_1, nb_0, representation_of_1_in_loss=REPRESENTATION_OF_1_IN_LOSS):\n",
    "    weight_0 = (1 - representation_of_1_in_loss) * (nb_0 + nb_1) / nb_0\n",
    "    weight_1 = representation_of_1_in_loss * (nb_0 + nb_1) / nb_1\n",
    "    return weight_0, weight_1\n",
    "\n",
    "# Weighted binary cross entropy\n",
    "def wbce( y_true, y_pred, sample_weight=None, weight1=1, weight0=1 ):\n",
    "    y_true = K.clip(y_true, K.epsilon(), 1-K.epsilon())\n",
    "    y_pred = K.clip(y_pred, K.epsilon(), 1-K.epsilon())\n",
    "    logloss = -(y_true * K.log(y_pred) * weight1 + (1 - y_true) * K.log(1 - y_pred) * weight0 )\n",
    "    return K.mean( logloss, axis=(0,1))\n",
    "\n",
    "# Compute the best f1 score, precision, recall, prediction threshold\n",
    "def f1(y_true, y_pred):\n",
    "    df = pd.DataFrame(y_true, columns=['y_true'])\n",
    "    df['y_pred'] = y_pred\n",
    "    cleaner = df.duplicated('y_pred', keep='last')\n",
    "    df = df.sort_values('y_pred', ascending=False)\n",
    "    df['vp'] = df.y_true.cumsum()\n",
    "    df['fp'] = (df.y_true == 0).cumsum()\n",
    "    df['fn'] = sum(df.y_true) - df['vp']\n",
    "    df['prec'] = df.vp / (df.vp + df.fp)\n",
    "    df['rec'] = df.vp / (df.vp + df.fn)\n",
    "    df = df.loc[~cleaner]\n",
    "    df['f1'] = 2* (df.prec * df.rec) / (df.prec + df.rec)\n",
    "    best = df['f1'].idxmax()\n",
    "    return df.loc[best]\n",
    "\n",
    "# Compute the best f2 score, precision, recall, prediction threshold\n",
    "def f2(y_true, y_pred):\n",
    "    df = pd.DataFrame(y_true, columns=['y_true'])\n",
    "    df['y_pred'] = y_pred\n",
    "    cleaner = df.duplicated('y_pred', keep='last')\n",
    "    df = df.sort_values('y_pred', ascending=False)\n",
    "    df['vp'] = df.y_true.cumsum()\n",
    "    df['fp'] = (df.y_true == 0).cumsum()\n",
    "    df['fn'] = sum(df.y_true) - df['vp']\n",
    "    df['prec'] = df.vp / (df.vp + df.fp)\n",
    "    df['rec'] = df.vp / (df.vp + df.fn)\n",
    "    df = df.loc[~cleaner]\n",
    "    df['f2'] = 5* (df.prec * df.rec) / (4*df.prec + df.rec)\n",
    "    best = df['f2'].idxmax()\n",
    "    return df.loc[best]"
   ]
  },
  {
   "cell_type": "markdown",
   "metadata": {},
   "source": [
    "## Callback"
   ]
  },
  {
   "cell_type": "code",
   "execution_count": 12,
   "metadata": {},
   "outputs": [],
   "source": [
    "# Keras Callback computing f1, precision, recall on epoch end\n",
    "class f1_class(Callback):\n",
    "    def __init__(self, val_generator=None):\n",
    "        super(Callback, self).__init__()                \n",
    "        self.validation_generator = val_generator\n",
    "\n",
    "            \n",
    "    def on_train_begin(self, logs={}):\n",
    "        self.f1s = []\n",
    "        self.f2s = []\n",
    "        self.ps = []\n",
    "        self.re = []\n",
    "        self.y_true = np.array(self.validation_generator.labels)\n",
    "        \n",
    "        \n",
    "    def get_f1_thresh(self, y_true, y_pred):\n",
    "        df = pd.DataFrame(y_true, columns=['y_true'])\n",
    "        df['y_pred'] = y_pred\n",
    "        cleaner = df.duplicated('y_pred', keep='last')\n",
    "        df = df.sort_values('y_pred', ascending=False)\n",
    "        df['vp'] = df.y_true.cumsum()\n",
    "        df['fp'] = (df.y_true == 0).cumsum()\n",
    "        df['fn'] = sum(df.y_true) - df['vp']\n",
    "        df['prec'] = df.vp / (df.vp + df.fp)\n",
    "        df['rec'] = df.vp / (df.vp + df.fn)\n",
    "        df = df.loc[~cleaner]\n",
    "        df['f1'] = 2* (df.prec * df.rec) / (df.prec + df.rec)\n",
    "        df['f2'] = 5* (df.prec * df.rec) / (4*df.prec + df.rec)\n",
    "        bestf1 = df['f1'].idxmax()\n",
    "        bestf2 = df['f2'].idxmax()\n",
    "        return df.loc[bestf1], df.loc[bestf2].f2\n",
    "        \n",
    "        \n",
    "    def on_epoch_end(self, epoch, logs=None):   \n",
    "        if epoch>=10:\n",
    "            y_pred = self.model.predict_generator(self.validation_generator).flatten()\n",
    "\n",
    "\n",
    "            best, f2 = self.get_f1_thresh(self.y_true, y_pred)\n",
    "\n",
    "            score = best.f1\n",
    "            p = best.prec\n",
    "            r = best.rec\n",
    "\n",
    "            self.f1s.append(score)\n",
    "            self.ps.append(p)\n",
    "            self.re.append(r)\n",
    "            self.f2s.append(f2)\n",
    "            \n",
    "            logs['f1'] = score\n",
    "\n",
    "            print(\"interval evaluation - epoch: {:d} - f1: {:.6f}, f2: {:.6f}, precision: {:.6f}, recall: {:.6f}\".format(epoch, score, f2, p, r))\n",
    "        else:\n",
    "            logs['f1'] = 0\n",
    "        \n",
    "        \n",
    "# def lr_scheduler(epoch):\n",
    "#     return learning_rate * (0.5 ** (epoch // lr_drop))\n",
    "\n",
    "\n",
    "# reduce_lr = LearningRateScheduler(lr_scheduler)\n",
    "\n",
    "mc = ModelCheckpoint('model_weights/final04.{epoch:02d}-{loss:.2f}.hdf5', save_weights_only=True)\n",
    "es = EarlyStopping(monitor='f1', patience=20, mode='max', restore_best_weights=True)\n",
    "rl = ReduceLROnPlateau(monitor='loss', patience=6, factor=0.5, verbose=1)"
   ]
  },
  {
   "cell_type": "markdown",
   "metadata": {},
   "source": [
    "## Data generators"
   ]
  },
  {
   "cell_type": "code",
   "execution_count": 6,
   "metadata": {},
   "outputs": [
    {
     "name": "stdout",
     "output_type": "stream",
     "text": [
      "Found 151331 images belonging to 2 classes.\n",
      "Found 151331 images belonging to 2 classes.\n"
     ]
    }
   ],
   "source": [
    "train_datagen = ImageDataGenerator(\n",
    "    rescale=1./255,\n",
    "    horizontal_flip=True,\n",
    "    rotation_range=10)\n",
    "\n",
    "test_datagen = ImageDataGenerator(rescale=1./255)\n",
    "\n",
    "train_generator = train_datagen.flow_from_directory(\n",
    "    'train32x32/train',\n",
    "    target_size=(size,size),\n",
    "    batch_size=batch_size,\n",
    "    class_mode='binary')\n",
    "\n",
    "validation_generator = test_datagen.flow_from_directory(\n",
    "    'train32x32/val',\n",
    "    target_size=(size,size),\n",
    "    batch_size=batch_size,\n",
    "    class_mode='binary')\n",
    "\n",
    "\n",
    "# Defined 2 generators without suffle for testing purpose\n",
    "train_gen_no_shuffle = test_datagen.flow_from_directory(\n",
    "    'train32x32/train',\n",
    "    target_size=(size,size),\n",
    "    batch_size=batch_size,\n",
    "    class_mode='binary',\n",
    "    shuffle=False\n",
    ")\n",
    "\n",
    "val_gen_no_shuffle = test_datagen.flow_from_directory(\n",
    "    'train32x32/val',\n",
    "    target_size=(size,size),\n",
    "    batch_size=batch_size,\n",
    "    class_mode='binary',\n",
    "    shuffle=False)"
   ]
  },
  {
   "cell_type": "markdown",
   "metadata": {},
   "source": [
    "## Model"
   ]
  },
  {
   "cell_type": "code",
   "execution_count": 7,
   "metadata": {},
   "outputs": [],
   "source": [
    "\n",
    "\n",
    "model = get_model()"
   ]
  },
  {
   "cell_type": "markdown",
   "metadata": {},
   "source": [
    "## Training"
   ]
  },
  {
   "cell_type": "code",
   "execution_count": 8,
   "metadata": {},
   "outputs": [],
   "source": [
    "# Partials functions to pass to the model\n",
    "w0, w1 = class_weight(nb1, nb0)\n",
    "wb_part = partial(wbce, weight1=w1, weight0=w0)\n",
    "# f1_cb = f1_class(val_gen_no_shuffle)\n",
    "\n",
    "model.compile(loss=wb_part,\n",
    "              optimizer=Adam(),\n",
    "              metrics=['accuracy'])"
   ]
  },
  {
   "cell_type": "code",
   "execution_count": 13,
   "metadata": {
    "scrolled": true
   },
   "outputs": [
    {
     "name": "stdout",
     "output_type": "stream",
     "text": [
      "Epoch 1/40\n",
      "296/295 - 157s - loss: 0.2327 - accuracy: 0.8941\n",
      "Epoch 2/40\n",
      "296/295 - 155s - loss: 0.1836 - accuracy: 0.9153\n",
      "Epoch 3/40\n",
      "296/295 - 154s - loss: 0.1607 - accuracy: 0.9246\n",
      "Epoch 4/40\n",
      "296/295 - 155s - loss: 0.1468 - accuracy: 0.9330\n",
      "Epoch 5/40\n",
      "296/295 - 154s - loss: 0.1326 - accuracy: 0.9391\n",
      "Epoch 6/40\n",
      "296/295 - 154s - loss: 0.1201 - accuracy: 0.9441\n",
      "Epoch 7/40\n",
      "296/295 - 154s - loss: 0.1187 - accuracy: 0.9468\n",
      "Epoch 8/40\n",
      "296/295 - 154s - loss: 0.1125 - accuracy: 0.9486\n",
      "Epoch 9/40\n",
      "296/295 - 154s - loss: 0.1057 - accuracy: 0.9518\n",
      "Epoch 10/40\n",
      "296/295 - 153s - loss: 0.1049 - accuracy: 0.9520\n",
      "Epoch 11/40\n",
      "296/295 - 153s - loss: 0.1197 - accuracy: 0.9477\n",
      "Epoch 12/40\n",
      "296/295 - 153s - loss: 0.1078 - accuracy: 0.9511\n",
      "Epoch 13/40\n",
      "296/295 - 153s - loss: 0.1023 - accuracy: 0.9541\n",
      "Epoch 14/40\n",
      "296/295 - 153s - loss: 0.0919 - accuracy: 0.9593\n",
      "Epoch 15/40\n",
      "296/295 - 153s - loss: 0.0904 - accuracy: 0.9579\n",
      "Epoch 16/40\n",
      "296/295 - 153s - loss: 0.0861 - accuracy: 0.9598\n",
      "Epoch 17/40\n",
      "296/295 - 153s - loss: 0.0859 - accuracy: 0.9597\n",
      "Epoch 18/40\n",
      "296/295 - 153s - loss: 0.0878 - accuracy: 0.9593\n",
      "Epoch 19/40\n",
      "296/295 - 153s - loss: 0.0851 - accuracy: 0.9613\n",
      "Epoch 20/40\n",
      "296/295 - 153s - loss: 0.0840 - accuracy: 0.9619\n",
      "Epoch 21/40\n",
      "296/295 - 152s - loss: 0.0842 - accuracy: 0.9620\n",
      "Epoch 22/40\n",
      "296/295 - 152s - loss: 0.0808 - accuracy: 0.9633\n",
      "Epoch 23/40\n",
      "296/295 - 153s - loss: 0.0800 - accuracy: 0.9628\n",
      "Epoch 24/40\n",
      "296/295 - 153s - loss: 0.0811 - accuracy: 0.9640\n",
      "Epoch 25/40\n",
      "296/295 - 153s - loss: 0.0740 - accuracy: 0.9660\n",
      "Epoch 26/40\n",
      "296/295 - 153s - loss: 0.0714 - accuracy: 0.9664\n",
      "Epoch 27/40\n",
      "296/295 - 154s - loss: 0.0731 - accuracy: 0.9651\n",
      "Epoch 28/40\n",
      "296/295 - 153s - loss: 0.0741 - accuracy: 0.9651\n",
      "Epoch 29/40\n",
      "296/295 - 153s - loss: 0.0693 - accuracy: 0.9676\n",
      "Epoch 30/40\n",
      "296/295 - 160s - loss: 0.0743 - accuracy: 0.9668\n",
      "Epoch 31/40\n",
      "296/295 - 155s - loss: 0.0702 - accuracy: 0.9687\n",
      "Epoch 32/40\n",
      "296/295 - 157s - loss: 0.0673 - accuracy: 0.9683\n",
      "Epoch 33/40\n",
      "296/295 - 154s - loss: 0.0664 - accuracy: 0.9692\n",
      "Epoch 34/40\n",
      "296/295 - 153s - loss: 0.0647 - accuracy: 0.9689\n",
      "Epoch 35/40\n",
      "296/295 - 153s - loss: 0.0642 - accuracy: 0.9702\n",
      "Epoch 36/40\n",
      "296/295 - 152s - loss: 0.0667 - accuracy: 0.9690\n",
      "Epoch 37/40\n",
      "296/295 - 154s - loss: 0.0595 - accuracy: 0.9715\n",
      "Epoch 38/40\n",
      "296/295 - 153s - loss: 0.0607 - accuracy: 0.9710\n",
      "Epoch 39/40\n",
      "296/295 - 153s - loss: 0.0697 - accuracy: 0.9684\n",
      "Epoch 40/40\n",
      "296/295 - 152s - loss: 0.0604 - accuracy: 0.9722\n"
     ]
    }
   ],
   "source": [
    "history = model.fit_generator(\n",
    "    train_generator,\n",
    "    steps_per_epoch=steps_per_epochs,\n",
    "    epochs=epochs,\n",
    "    validation_data=validation_generator,\n",
    "    validation_steps=validation_steps,\n",
    "    callbacks=[rl, mc],\n",
    "    verbose=2)"
   ]
  },
  {
   "cell_type": "code",
   "execution_count": 34,
   "metadata": {},
   "outputs": [],
   "source": [
    "# model.save_weights('model_weigths')\n",
    "# model.save_weights('model_40ep_32x32.h5')"
   ]
  },
  {
   "cell_type": "code",
   "execution_count": 21,
   "metadata": {},
   "outputs": [],
   "source": [
    "model.load_weights('model_weights/final04.40-0.06.hdf5')"
   ]
  },
  {
   "cell_type": "markdown",
   "metadata": {},
   "source": [
    "##  perf indicators"
   ]
  },
  {
   "cell_type": "code",
   "execution_count": 22,
   "metadata": {},
   "outputs": [],
   "source": [
    "y_true = train_gen_no_shuffle.labels\n",
    "y_pred = model.predict_generator(train_gen_no_shuffle)"
   ]
  },
  {
   "cell_type": "markdown",
   "metadata": {},
   "source": [
    "### F1 training"
   ]
  },
  {
   "cell_type": "code",
   "execution_count": 23,
   "metadata": {},
   "outputs": [
    {
     "data": {
      "text/plain": [
       "y_true       1.000000\n",
       "y_pred       0.980422\n",
       "vp        5770.000000\n",
       "fp         813.000000\n",
       "fn         524.000000\n",
       "prec         0.876500\n",
       "rec          0.916746\n",
       "f1           0.896171\n",
       "Name: 145719, dtype: float64"
      ]
     },
     "execution_count": 23,
     "metadata": {},
     "output_type": "execute_result"
    }
   ],
   "source": [
    "f1(y_true, y_pred.flatten())"
   ]
  },
  {
   "cell_type": "code",
   "execution_count": 24,
   "metadata": {},
   "outputs": [
    {
     "data": {
      "text/plain": [
       "y_true       1.000000\n",
       "y_pred       0.934110\n",
       "vp        6112.000000\n",
       "fp        1539.000000\n",
       "fn         182.000000\n",
       "prec         0.798850\n",
       "rec          0.971084\n",
       "f2           0.930941\n",
       "Name: 149787, dtype: float64"
      ]
     },
     "execution_count": 24,
     "metadata": {},
     "output_type": "execute_result"
    }
   ],
   "source": [
    "f2(y_true, y_pred.flatten())"
   ]
  },
  {
   "cell_type": "markdown",
   "metadata": {},
   "source": [
    "### F1 val"
   ]
  },
  {
   "cell_type": "code",
   "execution_count": 13,
   "metadata": {},
   "outputs": [
    {
     "name": "stdout",
     "output_type": "stream",
     "text": [
      "Wall time: 20.6 s\n"
     ]
    },
    {
     "data": {
      "text/plain": [
       "y_true       1.000000\n",
       "y_pred       0.893446\n",
       "vp        1130.000000\n",
       "fp         208.000000\n",
       "fn         103.000000\n",
       "prec         0.844544\n",
       "rec          0.916464\n",
       "f1           0.879035\n",
       "Name: 29761, dtype: float64"
      ]
     },
     "execution_count": 13,
     "metadata": {},
     "output_type": "execute_result"
    }
   ],
   "source": [
    "%%time\n",
    "y_val_true = val_gen_no_shuffle.labels\n",
    "y_val_pred = model.predict_generator(val_gen_no_shuffle)\n",
    "f1(y_val_true, y_val_pred.flatten())"
   ]
  },
  {
   "cell_type": "code",
   "execution_count": 14,
   "metadata": {},
   "outputs": [
    {
     "data": {
      "text/plain": [
       "y_true       1.000000\n",
       "y_pred       0.711501\n",
       "vp        1172.000000\n",
       "fp         322.000000\n",
       "fn          61.000000\n",
       "prec         0.784471\n",
       "rec          0.950527\n",
       "f2           0.911920\n",
       "Name: 29888, dtype: float64"
      ]
     },
     "execution_count": 14,
     "metadata": {},
     "output_type": "execute_result"
    }
   ],
   "source": [
    "f2(y_val_true, y_val_pred.flatten())"
   ]
  },
  {
   "cell_type": "markdown",
   "metadata": {},
   "source": [
    "## Plots"
   ]
  },
  {
   "cell_type": "code",
   "execution_count": 66,
   "metadata": {},
   "outputs": [
    {
     "data": {
      "image/png": "[encoded data removed]",
      "text/plain": [
       "<Figure size 432x288 with 1 Axes>"
      ]
     },
     "metadata": {
      "needs_background": "light"
     },
     "output_type": "display_data"
    }
   ],
   "source": [
    "# Plot training & validation accuracy values\n",
    "plt.plot(history.history['accuracy'])\n",
    "plt.plot(history.history['val_accuracy'])\n",
    "plt.title('Model accuracy')\n",
    "plt.ylabel('Accuracy')\n",
    "plt.xlabel('Epoch')\n",
    "plt.legend(['Train', 'Test'], loc='upper left')\n",
    "plt.show()"
   ]
  },
  {
   "cell_type": "code",
   "execution_count": 67,
   "metadata": {},
   "outputs": [
    {
     "data": {
      "image/png": "[encoded data removed]",
      "text/plain": [
       "<Figure size 432x288 with 1 Axes>"
      ]
     },
     "metadata": {
      "needs_background": "light"
     },
     "output_type": "display_data"
    }
   ],
   "source": [
    "# Plot training & validation loss values\n",
    "plt.plot(history.history['loss'])\n",
    "plt.plot(history.history['val_loss'])\n",
    "plt.title('Model loss')\n",
    "plt.ylabel('Loss')\n",
    "plt.xlabel('Epoch')\n",
    "plt.legend(['Train', 'Test'], loc='upper left')\n",
    "plt.show()"
   ]
  },
  {
   "cell_type": "code",
   "execution_count": 68,
   "metadata": {},
   "outputs": [
    {
     "data": {
      "image/png": "[encoded data removed]",
      "text/plain": [
       "<Figure size 432x288 with 1 Axes>"
      ]
     },
     "metadata": {
      "needs_background": "light"
     },
     "output_type": "display_data"
    }
   ],
   "source": [
    "plt.plot(f1_cb.f1s)\n",
    "plt.title('Model f1')\n",
    "plt.ylabel('f1')\n",
    "plt.xlabel('Epoch')\n",
    "plt.legend(['Test'], loc='upper left')\n",
    "plt.show()"
   ]
  },
  {
   "cell_type": "code",
   "execution_count": 69,
   "metadata": {
    "scrolled": true
   },
   "outputs": [
    {
     "data": {
      "image/png": "[encoded data removed]",
      "text/plain": [
       "<Figure size 432x288 with 1 Axes>"
      ]
     },
     "metadata": {
      "needs_background": "light"
     },
     "output_type": "display_data"
    }
   ],
   "source": [
    "# Plot training & validation loss values\n",
    "plt.plot(f1_cb.re)\n",
    "plt.title('Model recall')\n",
    "plt.ylabel('recall')\n",
    "plt.xlabel('epoch')\n",
    "plt.legend(['Train', 'Test'], loc='upper left')\n",
    "plt.show()"
   ]
  },
  {
   "cell_type": "code",
   "execution_count": 70,
   "metadata": {},
   "outputs": [
    {
     "data": {
      "image/png": "[encoded data removed]",
      "text/plain": [
       "<Figure size 432x288 with 1 Axes>"
      ]
     },
     "metadata": {
      "needs_background": "light"
     },
     "output_type": "display_data"
    }
   ],
   "source": [
    "# Plot training & validation loss values\n",
    "plt.plot(f1_cb.ps )\n",
    "plt.title('Model precision')\n",
    "plt.ylabel('precision')\n",
    "plt.xlabel('epoch')\n",
    "plt.legend(['Train', 'Test'], loc='upper left')\n",
    "plt.show()"
   ]
  },
  {
   "cell_type": "code",
   "execution_count": null,
   "metadata": {},
   "outputs": [],
   "source": []
  }
 ],
 "metadata": {
  "kernelspec": {
   "display_name": "Python 3.7.5 64-bit ('ML': conda)",
   "language": "python",
   "name": "python37564bitmlconda211bdc725b104aa08a51f12bbf10f193"
  },
  "language_info": {
   "codemirror_mode": {
    "name": "ipython",
    "version": 3
   },
   "file_extension": ".py",
   "mimetype": "text/x-python",
   "name": "python",
   "nbconvert_exporter": "python",
   "pygments_lexer": "ipython3",
   "version": "3.7.6"
  }
 },
 "nbformat": 4,
 "nbformat_minor": 4
}
